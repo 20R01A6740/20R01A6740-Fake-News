{
 "cells": [
  {
   "cell_type": "code",
   "execution_count": 1,
   "id": "f7b6ea8a",
   "metadata": {},
   "outputs": [],
   "source": [
    "def stringToNum(statement):\n",
    "    statement=list(statement)\n",
    "    vectorizer=pickle.load(open('vectorizer','rb'))\n",
    "    vectorizer.transform(statement)\n",
    "    print(statement)\n",
    "    return statement"
   ]
  },
  {
   "cell_type": "code",
   "execution_count": null,
   "id": "10c55a1b",
   "metadata": {
    "scrolled": true
   },
   "outputs": [],
   "source": [
    "import pickle\n",
    "statement = input(\"enter the news thet you wnt to predict\")\n",
    "print(\"you entered\",str(statement))\n",
    "\n",
    "def fakenews(statement):\n",
    "    load=pickle.load(open('model_pickle','rb'))\n",
    "    num_statement=stringToNum(statement)\n",
    "    prediction=load.predict(num_statement)\n",
    "    prob=load.predict_proba(num_statement)\n",
    "    return (print(\"The given statement is\",prediction[0]))\n",
    "\n",
    "if __name__=='__main__':\n",
    "    fakenews(statement)"
   ]
  },
  {
   "cell_type": "code",
   "execution_count": null,
   "id": "56aefc4e",
   "metadata": {},
   "outputs": [],
   "source": []
  }
 ],
 "metadata": {
  "kernelspec": {
   "display_name": "Python 3",
   "language": "python",
   "name": "python3"
  },
  "language_info": {
   "codemirror_mode": {
    "name": "ipython",
    "version": 3
   },
   "file_extension": ".py",
   "mimetype": "text/x-python",
   "name": "python",
   "nbconvert_exporter": "python",
   "pygments_lexer": "ipython3",
   "version": "3.9.13"
  }
 },
 "nbformat": 4,
 "nbformat_minor": 5
}
